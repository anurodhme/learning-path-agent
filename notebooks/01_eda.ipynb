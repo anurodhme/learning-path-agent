{
 "cells": [
  {
   "cell_type": "code",
   "execution_count": null,
   "id": "a62b5bba",
   "metadata": {
    "vscode": {
     "languageId": "plaintext"
    }
   },
   "outputs": [],
   "source": [
    "# Import necessary libraries\n",
    "import pandas as pd\n",
    "import seaborn as sns\n",
    "import matplotlib.pyplot as plt\n",
    "\n",
    "# Set a style for our plots\n",
    "sns.set_style(\"whitegrid\")\n",
    "\n",
    "print(\"--- Loading Data ---\")\n",
    "# Load the dataset from the raw data folder\n",
    "try:\n",
    "    df = pd.read_csv(\"../data/raw/courses.csv\")\n",
    "    print(\"Dataset loaded successfully.\")\n",
    "    print(f\"Shape of the dataset: {df.shape}\")\n",
    "except FileNotFoundError:\n",
    "    print(\"Error: courses.csv not found in data/raw/. Please complete Step 4.\")\n",
    "\n",
    "# Display the first 5 rows to understand the columns\n",
    "print(\"\\n--- First 5 Rows of the Dataset ---\")\n",
    "display(df.head())\n",
    "\n",
    "# --- Analysis 1: Token Distribution in Course Descriptions ---\n",
    "print(\"\\n--- Analyzing Description Length ---\")\n",
    "# Calculate the number of words (tokens) in each course description\n",
    "df[\"description_tokens\"] = df[\"description\"].astype(str).str.split().str.len()\n",
    "\n",
    "# Plot the distribution\n",
    "plt.figure(figsize=(12, 6))\n",
    "sns.histplot(df[\"description_tokens\"], bins=50, kde=True)\n",
    "plt.title(\"Distribution of Token Count in Course Descriptions\", fontsize=16)\n",
    "plt.xlabel(\"Number of Tokens (Words)\")\n",
    "plt.ylabel(\"Number of Courses\")\n",
    "plt.axvline(df[\"description_tokens\"].median(), color='red', linestyle='--', label=f'Median: {df[\"description_tokens\"].median():.0f} tokens')\n",
    "plt.legend()\n",
    "plt.show()\n",
    "\n",
    "print(f\"Key Insight: The median course description length is ~{df['description_tokens'].median():.0f} tokens.\")\n",
    "print(\"This is well within the context window of small LLMs like distilgpt2 (512-1024 tokens).\")\n",
    "\n",
    "\n",
    "# --- Analysis 2: Top Skills Mentioned in the Dataset ---\n",
    "print(\"\\n--- Analyzing Top Skills ---\")\n",
    "# The 'skills' column is a string of comma-separated values. We need to parse it.\n",
    "# Drop rows with no skills, then split the string into a list, and explode the list into separate rows.\n",
    "skills_series = df.dropna(subset=['skills'])['skills'].str.split(', ').explode()\n",
    "\n",
    "# Count the frequency of each skill\n",
    "top_skills = skills_series.value_counts().head(15)\n",
    "\n",
    "# Plot the most common skills\n",
    "plt.figure(figsize=(12, 8))\n",
    "sns.barplot(x=top_skills.values, y=top_skills.index, palette=\"viridis\")\n",
    "plt.title(\"Top 15 Most Common Skills on Coursera\", fontsize=16)\n",
    "plt.xlabel(\"Number of Courses\")\n",
    "plt.ylabel(\"Skill\")\n",
    "plt.show()\n",
    "\n",
    "print(\"Key Insight: Foundational tech skills like Python, SQL, and Machine Learning are highly prevalent.\")"
   ]
  }
 ],
 "metadata": {
  "language_info": {
   "name": "python"
  }
 },
 "nbformat": 4,
 "nbformat_minor": 5
}
